{
  "nbformat": 4,
  "nbformat_minor": 0,
  "metadata": {
    "colab": {
      "name": "Percolation Project Dag",
      "provenance": [],
      "toc_visible": true,
      "authorship_tag": "ABX9TyM31UZNqHsEzHOdugEoWmBT",
      "include_colab_link": true
    },
    "kernelspec": {
      "name": "python3",
      "display_name": "Python 3"
    },
    "language_info": {
      "name": "python"
    }
  },
  "cells": [
    {
      "cell_type": "markdown",
      "metadata": {
        "id": "view-in-github",
        "colab_type": "text"
      },
      "source": [
        "<a href=\"https://colab.research.google.com/github/hailes1/BetterFit/blob/master/Percolation_Project_Dag.ipynb\" target=\"_parent\"><img src=\"https://colab.research.google.com/assets/colab-badge.svg\" alt=\"Open In Colab\"/></a>"
      ]
    },
    {
      "cell_type": "markdown",
      "metadata": {
        "id": "zctBYw_RaSBP"
      },
      "source": [
        "#Percolation Project\n",
        "#####Done by: Dagmawe Haileslassie"
      ]
    },
    {
      "cell_type": "markdown",
      "metadata": {
        "id": "XXroiLCVb0ev"
      },
      "source": [
        "In this project we are going to be examining the 2D percolation problem in which we have a n × n grid of squares. Each square is either “open” with probability p or “closed” with probability 1 − p. We say that percolation occurs if there is a path of open squares from any square in the top row to any square in the bottom row of the grid. let's see what this looks like in a diagram. "
      ]
    },
    {
      "cell_type": "markdown",
      "metadata": {
        "id": "9Bwz-ArOddV1"
      },
      "source": [
        "# Introduction"
      ]
    },
    {
      "cell_type": "code",
      "metadata": {
        "id": "4CP60UreaLl0"
      },
      "source": [
        "import random\n",
        "import numpy as np\n",
        "import math\n",
        "import matplotlib.pyplot as plt\n",
        "from matplotlib.colors import ListedColormap"
      ],
      "execution_count": 4,
      "outputs": []
    },
    {
      "cell_type": "markdown",
      "metadata": {
        "id": "ZY9KdRV-dFFG"
      },
      "source": [
        "Let's start with defining the variables:\n",
        "n: the number of rows and columns in the grid\n",
        "p: probability that a square is \"open\""
      ]
    },
    {
      "cell_type": "code",
      "metadata": {
        "id": "rautzwhsdOJg"
      },
      "source": [
        "n = 10\n",
        "p = 0.6"
      ],
      "execution_count": 5,
      "outputs": []
    },
    {
      "cell_type": "code",
      "metadata": {
        "colab": {
          "base_uri": "https://localhost:8080/"
        },
        "id": "yCF8MYnFdQ_x",
        "outputId": "03e43deb-c7e8-462a-8c63-5d6d345b957f"
      },
      "source": [
        "grid = (np.random.rand(n,n) < p).astype(int)\n",
        "grid # 0 indicates closed and 1 indicates open "
      ],
      "execution_count": 6,
      "outputs": [
        {
          "output_type": "execute_result",
          "data": {
            "text/plain": [
              "array([[0, 1, 1, 1, 0, 1, 0, 0, 0, 1],\n",
              "       [1, 0, 1, 1, 0, 1, 0, 1, 0, 0],\n",
              "       [1, 0, 0, 0, 0, 1, 1, 0, 0, 1],\n",
              "       [0, 1, 1, 1, 1, 1, 0, 0, 0, 1],\n",
              "       [0, 0, 1, 1, 0, 1, 1, 0, 1, 1],\n",
              "       [1, 1, 1, 0, 1, 1, 0, 0, 1, 1],\n",
              "       [0, 0, 1, 1, 1, 1, 0, 1, 1, 1],\n",
              "       [1, 0, 0, 0, 0, 1, 0, 0, 1, 1],\n",
              "       [0, 0, 0, 1, 1, 1, 1, 1, 0, 1],\n",
              "       [1, 1, 0, 1, 1, 1, 1, 1, 1, 1]])"
            ]
          },
          "metadata": {
            "tags": []
          },
          "execution_count": 6
        }
      ]
    },
    {
      "cell_type": "code",
      "metadata": {
        "colab": {
          "base_uri": "https://localhost:8080/",
          "height": 283
        },
        "id": "mFp7j_zAdWQI",
        "outputId": "2ff45e80-3362-4aa1-c4c6-b0c6b523c940"
      },
      "source": [
        "mycolormap = ListedColormap([\"grey\", \"blue\"])\n",
        "plt.imshow(grid, cmap=mycolormap)"
      ],
      "execution_count": 7,
      "outputs": [
        {
          "output_type": "execute_result",
          "data": {
            "text/plain": [
              "<matplotlib.image.AxesImage at 0x7f8223ac9e90>"
            ]
          },
          "metadata": {
            "tags": []
          },
          "execution_count": 7
        },
        {
          "output_type": "display_data",
          "data": {
            "image/png": "[encoded data removed]",
            "text/plain": [
              "<Figure size 432x288 with 1 Axes>"
            ]
          },
          "metadata": {
            "tags": [],
            "needs_background": "light"
          }
        }
      ]
    },
    {
      "cell_type": "code",
      "metadata": {
        "id": "BNZmGbXIeud9"
      },
      "source": [
        "#create an exception that will ovvur if we find percolation\n",
        "class percolationFound(Exception): pass\n",
        "def query(row, col, grid, visited):\n",
        "  #print(\"visiting square\", row, \",\", col)\n",
        "  #Mark as Visited\n",
        "  visited[row,col] = 1\n",
        "  #Final Checker \n",
        "  (numRows, numCols) = np.shape(grid)\n",
        "  if row == numRows-1:\n",
        "    #print(\"Path Found!\")\n",
        "    raise percolationFound\n",
        "  else:\n",
        "      if grid[row+1][col] == 1 and visited[row+1,col] == 0:\n",
        "        query(row+1, col, grid, visited)\n",
        "\n",
        "\n",
        "      if col > 0 and grid[row][col-1] == 1 and visited[row,col-1] == 0:\n",
        "        query(row, col-1, grid, visited)\n",
        "\n",
        "\n",
        "      if col < numCols-1 and grid[row][col+1] == 1 and visited[row,col+1] == 0:\n",
        "        query(row, col+1, grid, visited)\n",
        "\n",
        "\n",
        "      if row > 0 and grid[row-1][col] == 1 and visited[row-1,col] == 0:\n",
        "        query(row-1, col, grid, visited)\n",
        "#driver function that looks for percolation in a grid and it returns True if percolation found and false otherwise \n",
        "def findPercolation(grid):\n",
        "  #setting up the visited matrix\n",
        "  (numRows, numCols) = np.shape(grid)\n",
        "  visited = np.zeros((numRows,numCols))\n",
        "\n",
        "  #look for a percolation found\n",
        "  try:#This code might raise an error, if the error occurs then python would go to except\n",
        "    for c in range(numCols):\n",
        "      if grid[0,c] == 1:\n",
        "        query(0,c,grid,visited)\n",
        "  except percolationFound: #Will run if percolation is found\n",
        "    #print(\"percolation is found\")\n",
        "    return True \n",
        "  else: #will run if percolation is not found \n",
        "    #print(\"percolation is not found\")\n",
        "    return False\n"
      ],
      "execution_count": 8,
      "outputs": []
    },
    {
      "cell_type": "code",
      "metadata": {
        "colab": {
          "base_uri": "https://localhost:8080/"
        },
        "id": "7aOmxZRzeyec",
        "outputId": "6ed607e6-6cf9-4df5-8726-c5ec29a409c2"
      },
      "source": [
        "print(grid)\n",
        "findPercolation(grid)"
      ],
      "execution_count": 9,
      "outputs": [
        {
          "output_type": "stream",
          "text": [
            "[[0 1 1 1 0 1 0 0 0 1]\n",
            " [1 0 1 1 0 1 0 1 0 0]\n",
            " [1 0 0 0 0 1 1 0 0 1]\n",
            " [0 1 1 1 1 1 0 0 0 1]\n",
            " [0 0 1 1 0 1 1 0 1 1]\n",
            " [1 1 1 0 1 1 0 0 1 1]\n",
            " [0 0 1 1 1 1 0 1 1 1]\n",
            " [1 0 0 0 0 1 0 0 1 1]\n",
            " [0 0 0 1 1 1 1 1 0 1]\n",
            " [1 1 0 1 1 1 1 1 1 1]]\n"
          ],
          "name": "stdout"
        },
        {
          "output_type": "execute_result",
          "data": {
            "text/plain": [
              "True"
            ]
          },
          "metadata": {
            "tags": []
          },
          "execution_count": 9
        }
      ]
    },
    {
      "cell_type": "markdown",
      "metadata": {
        "id": "fQAyqlEWe1UP"
      },
      "source": [
        "In the above code chunk we can see that when entering our grid into the depth first seach algorithm we created in class to see if percolation occurs or not we get a False value which shows us that it doesn't. "
      ]
    },
    {
      "cell_type": "markdown",
      "metadata": {
        "id": "_eXfsl_pdilY"
      },
      "source": [
        "# How does the probability of percolation depend on p when n is fixed?"
      ]
    },
    {
      "cell_type": "markdown",
      "metadata": {
        "id": "bnnwTobFdoRP"
      },
      "source": [
        "To explore the above question let us begin by setting  n = 10 and we then try to find the probability of percolation for various values of p which in our case will be within the range of 0.1 - 0.9 increasing by 0.1 each time and we run that 100,000 times to get a more accurate representation. We will then make a plot of the different percentages of percolation showing how the probability of percolation depends on p when n = 10. Let's see how this works. "
      ]
    },
    {
      "cell_type": "code",
      "metadata": {
        "id": "PIATJ5IVdlqQ"
      },
      "source": [
        "def percolationsInput(n,p,numTimes):\n",
        "  count = 0\n",
        "  for i in range(numTimes):\n",
        "    grid = (np.random.rand(n,n) < p).astype(int) # 0 indicates closed and 1 indicates open \n",
        "    values = findPercolation(grid) # saving a true of false value of finding percolation for a specific grid \n",
        "    #print(\"run number\", i)\n",
        "    #print(values)\n",
        "    if values == True:\n",
        "      count += 1\n",
        "  prop = (count/numTimes)*100 # which is the percentage of a 100 runs for a single value of p\n",
        "  return prop"
      ],
      "execution_count": 10,
      "outputs": []
    },
    {
      "cell_type": "code",
      "metadata": {
        "colab": {
          "base_uri": "https://localhost:8080/"
        },
        "id": "r2nxsgKnfDr0",
        "outputId": "79867360-83b5-41ba-ab58-969533e1f176"
      },
      "source": [
        "percolationsInput(10,0.6,10000)"
      ],
      "execution_count": 11,
      "outputs": [
        {
          "output_type": "execute_result",
          "data": {
            "text/plain": [
              "56.18"
            ]
          },
          "metadata": {
            "tags": []
          },
          "execution_count": 11
        }
      ]
    },
    {
      "cell_type": "code",
      "metadata": {
        "id": "5ugAwCkVfFLQ"
      },
      "source": [
        "def percolationforMultiplePStart(n,numTimes):\n",
        "  nvals = np.arange (0.1, 1.0, 0.1)\n",
        "  #listofP = [i for i in range(1,11,1)]\n",
        "  print(*nvals)\n",
        "  oneRunList = [percolationsInput(n,p,numTimes) for p in nvals]\n",
        "  print(oneRunList)\n",
        "  plt.plot(nvals, oneRunList, 'go')\n",
        "  plt.xlabel(\"values of P\")\n",
        "  plt.ylabel(\"Percentage of percolation\")\n"
      ],
      "execution_count": 12,
      "outputs": []
    },
    {
      "cell_type": "code",
      "metadata": {
        "colab": {
          "base_uri": "https://localhost:8080/",
          "height": 314
        },
        "id": "9v5FAc-YfHoM",
        "outputId": "94aea32f-50a5-4f67-8312-fcfdd713657b"
      },
      "source": [
        "percolationforMultiplePStart(10, 1000)"
      ],
      "execution_count": 13,
      "outputs": [
        {
          "output_type": "stream",
          "text": [
            "0.1 0.2 0.30000000000000004 0.4 0.5 0.6 0.7000000000000001 0.8 0.9\n",
            "[0.0, 0.0, 0.0, 1.9, 14.799999999999999, 54.7, 91.2, 99.5, 100.0]\n"
          ],
          "name": "stdout"
        },
        {
          "output_type": "display_data",
          "data": {
            "image/png": "[encoded data removed]",
            "text/plain": [
              "<Figure size 432x288 with 1 Axes>"
            ]
          },
          "metadata": {
            "tags": [],
            "needs_background": "light"
          }
        }
      ]
    },
    {
      "cell_type": "code",
      "metadata": {
        "colab": {
          "base_uri": "https://localhost:8080/",
          "height": 314
        },
        "id": "ZarJ36ZstYrh",
        "outputId": "4409b1eb-6e56-454c-beea-cd227d03cece"
      },
      "source": [
        "percolationforMultiplePStart(40, 1000)"
      ],
      "execution_count": 15,
      "outputs": [
        {
          "output_type": "stream",
          "text": [
            "0.1 0.2 0.30000000000000004 0.4 0.5 0.6 0.7000000000000001 0.8 0.9\n",
            "[0.0, 0.0, 0.0, 0.0, 0.6, 58.099999999999994, 99.8, 100.0, 100.0]\n"
          ],
          "name": "stdout"
        },
        {
          "output_type": "display_data",
          "data": {
            "image/png": "[encoded data removed]",
            "text/plain": [
              "<Figure size 432x288 with 1 Axes>"
            ]
          },
          "metadata": {
            "tags": [],
            "needs_background": "light"
          }
        }
      ]
    },
    {
      "cell_type": "markdown",
      "metadata": {
        "id": "BaNNNfMWrS0g"
      },
      "source": [
        "Intuitively we know that for values 0.1 upto 0.3/0.4 then the probabilty of percolation is going to be close to 0(very small). Therefore we should zoom into the different values of p from 0.4 - 0.8 to see how much the probability changes for such abiogious values. "
      ]
    },
    {
      "cell_type": "code",
      "metadata": {
        "id": "H9uuEJhFfLv_"
      },
      "source": [
        "def percolationforMultipleP(n,numTimes):\n",
        "  nvals = np.arange (0.5, 0.7, 0.01)\n",
        "  #listofP = [i for i in range(1,11,1)]\n",
        "  print(*nvals)\n",
        "  oneRunList = [percolationsInput(n,p,numTimes) for p in nvals]\n",
        "  print(oneRunList)\n",
        "  plt.plot(nvals, oneRunList, 'go')\n",
        "  plt.xlabel(\"values of Probability that each square is open\")\n",
        "  plt.ylabel(\"Percentage of times percolation occurs\")"
      ],
      "execution_count": 17,
      "outputs": []
    },
    {
      "cell_type": "code",
      "metadata": {
        "colab": {
          "base_uri": "https://localhost:8080/",
          "height": 335
        },
        "id": "eQY9swOEfT39",
        "outputId": "71e8dc8e-8c7d-4fef-f37e-a421944eb424"
      },
      "source": [
        "percolationforMultipleP(20, 1000)"
      ],
      "execution_count": null,
      "outputs": [
        {
          "output_type": "stream",
          "text": [
            "0.5 0.51 0.52 0.53 0.54 0.55 0.56 0.5700000000000001 0.5800000000000001 0.5900000000000001 0.6000000000000001 0.6100000000000001 0.6200000000000001 0.6300000000000001 0.6400000000000001 0.6500000000000001 0.6600000000000001 0.6700000000000002 0.6800000000000002 0.6900000000000002\n",
            "[4.6, 7.5, 8.799999999999999, 13.3, 16.7, 21.5, 26.0, 35.8, 43.2, 48.8, 58.099999999999994, 63.0, 72.1, 78.5, 80.7, 85.8, 91.0, 93.2, 96.7, 96.6]\n"
          ],
          "name": "stdout"
        },
        {
          "output_type": "display_data",
          "data": {
            "image/png": "[encoded data removed]",
            "text/plain": [
              "<Figure size 432x288 with 1 Axes>"
            ]
          },
          "metadata": {
            "tags": [],
            "needs_background": "light"
          }
        }
      ]
    },
    {
      "cell_type": "code",
      "metadata": {
        "id": "d1woLUNOfVEb",
        "colab": {
          "base_uri": "https://localhost:8080/",
          "height": 333
        },
        "outputId": "531b5a86-0796-43c6-a453-4c8b04e4b640"
      },
      "source": [
        "percolationforMultipleP(30, 1000)"
      ],
      "execution_count": null,
      "outputs": [
        {
          "output_type": "stream",
          "text": [
            "0.5 0.51 0.52 0.53 0.54 0.55 0.56 0.5700000000000001 0.5800000000000001 0.5900000000000001 0.6000000000000001 0.6100000000000001 0.6200000000000001 0.6300000000000001 0.6400000000000001 0.6500000000000001 0.6600000000000001 0.6700000000000002 0.6800000000000002 0.6900000000000002\n",
            "[1.2, 2.4, 4.0, 5.800000000000001, 9.3, 14.899999999999999, 22.8, 26.400000000000002, 38.5, 47.599999999999994, 56.699999999999996, 67.5, 76.3, 85.8, 88.1, 93.60000000000001, 96.6, 97.89999999999999, 98.6, 99.3]\n"
          ],
          "name": "stdout"
        },
        {
          "output_type": "display_data",
          "data": {
            "image/png": "[encoded data removed]",
            "text/plain": [
              "<Figure size 432x288 with 1 Axes>"
            ]
          },
          "metadata": {
            "tags": [],
            "needs_background": "light"
          }
        }
      ]
    },
    {
      "cell_type": "code",
      "metadata": {
        "colab": {
          "base_uri": "https://localhost:8080/",
          "height": 333
        },
        "id": "BR1Ps7vKJPkr",
        "outputId": "9cb10b3e-8884-4df4-db5b-cc4ad584b488"
      },
      "source": [
        "percolationforMultipleP(40, 1000)"
      ],
      "execution_count": null,
      "outputs": [
        {
          "output_type": "stream",
          "text": [
            "0.5 0.51 0.52 0.53 0.54 0.55 0.56 0.5700000000000001 0.5800000000000001 0.5900000000000001 0.6000000000000001 0.6100000000000001 0.6200000000000001 0.6300000000000001 0.6400000000000001 0.6500000000000001 0.6600000000000001 0.6700000000000002 0.6800000000000002 0.6900000000000002\n",
            "[0.4, 0.7000000000000001, 1.3, 4.0, 4.6, 10.299999999999999, 16.7, 23.3, 34.2, 48.5, 56.99999999999999, 68.89999999999999, 80.5, 87.7, 93.30000000000001, 96.0, 98.1, 99.4, 99.6, 99.7]\n"
          ],
          "name": "stdout"
        },
        {
          "output_type": "display_data",
          "data": {
            "image/png": "[encoded data removed]",
            "text/plain": [
              "<Figure size 432x288 with 1 Axes>"
            ]
          },
          "metadata": {
            "tags": [],
            "needs_background": "light"
          }
        }
      ]
    },
    {
      "cell_type": "code",
      "metadata": {
        "colab": {
          "base_uri": "https://localhost:8080/",
          "height": 334
        },
        "id": "EBX4W2GcJk6Q",
        "outputId": "178ed08a-7c37-43ea-d2b2-218dc7023f48"
      },
      "source": [
        "percolationforMultipleP(60, 1000)"
      ],
      "execution_count": 19,
      "outputs": [
        {
          "output_type": "stream",
          "text": [
            "0.5 0.51 0.52 0.53 0.54 0.55 0.56 0.5700000000000001 0.5800000000000001 0.5900000000000001 0.6000000000000001 0.6100000000000001 0.6200000000000001 0.6300000000000001 0.6400000000000001 0.6500000000000001 0.6600000000000001 0.6700000000000002 0.6800000000000002 0.6900000000000002\n",
            "[0.1, 0.0, 0.1, 0.7000000000000001, 1.3, 3.9, 8.0, 20.5, 30.8, 47.199999999999996, 63.3, 75.7, 86.5, 93.8, 97.1, 99.0, 99.3, 99.9, 99.9, 100.0]\n"
          ],
          "name": "stdout"
        },
        {
          "output_type": "display_data",
          "data": {
            "image/png": "[encoded data removed]",
            "text/plain": [
              "<Figure size 432x288 with 1 Axes>"
            ]
          },
          "metadata": {
            "tags": [],
            "needs_background": "light"
          }
        }
      ]
    },
    {
      "cell_type": "markdown",
      "metadata": {
        "id": "TqxoD7jssdkd"
      },
      "source": [
        "I found it very interesting to see that the values for percentage of times percolation occurs is generally increasing but as we increase the value of n we could see that the smaller values of that graph definatley approach 0. For example when we look at the graoh for when n=30 the percentage drops to 0 for p value of 0.525 which was a little higher when n=30. I wonder what's happening there?"
      ]
    },
    {
      "cell_type": "markdown",
      "metadata": {
        "id": "Mxh5TcjkfXsJ"
      },
      "source": [
        "# How does the probability of percolation depend on n when p is fixed? "
      ]
    },
    {
      "cell_type": "markdown",
      "metadata": {
        "id": "GD8vj7NUsIkB"
      },
      "source": [
        "To explore the above question let us begin by setting  p = .5 and we then try to find the probability of percolation for various values of n which in our case will be within the range of 5 - 55 increasing by 5 each time and we run that 10,000 times to get a more accurate representation. We will then make a plot of the different percentages of percolation showing how the probability of percolation depends on p when p = .5 , .55, .6, .65 ... Let's see how this works. "
      ]
    },
    {
      "cell_type": "code",
      "metadata": {
        "id": "-v2xsPwfffwX"
      },
      "source": [
        "def percolationforMultipleN(p,numTimes):\n",
        "  nvals = np.arange (5, 55, 5)\n",
        "  print(*nvals)\n",
        "  oneRunList = [percolationsInput(n,p,numTimes) for n in nvals]\n",
        "  print(oneRunList)\n",
        "  plt.plot(nvals, oneRunList, 'go')\n",
        "  plt.xlabel(\"values of n\")\n",
        "  plt.ylabel(\"Percentage of percolation\")"
      ],
      "execution_count": null,
      "outputs": []
    },
    {
      "cell_type": "code",
      "metadata": {
        "colab": {
          "base_uri": "https://localhost:8080/",
          "height": 314
        },
        "id": "c4TYR0vifiTn",
        "outputId": "4f8d25d9-9223-49aa-f419-39765a1969a2"
      },
      "source": [
        "percolationforMultipleN(0.5, 1000)"
      ],
      "execution_count": null,
      "outputs": [
        {
          "output_type": "stream",
          "text": [
            "5 10 15 20 25 30 35 40 45 50\n",
            "[28.000000000000004, 14.799999999999999, 9.4, 6.0, 2.4, 1.4000000000000001, 0.8, 0.4, 0.1, 0.0]\n"
          ],
          "name": "stdout"
        },
        {
          "output_type": "display_data",
          "data": {
            "image/png": "[encoded data removed]",
            "text/plain": [
              "<Figure size 432x288 with 1 Axes>"
            ]
          },
          "metadata": {
            "tags": [],
            "needs_background": "light"
          }
        }
      ]
    },
    {
      "cell_type": "code",
      "metadata": {
        "colab": {
          "base_uri": "https://localhost:8080/",
          "height": 314
        },
        "id": "ZGRyCop6fjlS",
        "outputId": "8585c4ff-7e14-463a-e5ea-d884cdfc220c"
      },
      "source": [
        "percolationforMultipleN(0.55, 1000)"
      ],
      "execution_count": null,
      "outputs": [
        {
          "output_type": "stream",
          "text": [
            "5 10 15 20 25 30 35 40 45 50\n",
            "[41.3, 34.599999999999994, 29.9, 23.0, 18.4, 15.1, 12.6, 10.0, 8.7, 5.4]\n"
          ],
          "name": "stdout"
        },
        {
          "output_type": "display_data",
          "data": {
            "image/png": "[encoded data removed]",
            "text/plain": [
              "<Figure size 432x288 with 1 Axes>"
            ]
          },
          "metadata": {
            "tags": [],
            "needs_background": "light"
          }
        }
      ]
    },
    {
      "cell_type": "code",
      "metadata": {
        "colab": {
          "base_uri": "https://localhost:8080/",
          "height": 334
        },
        "id": "1F58XbR8flSI",
        "outputId": "5d6f26dd-33e4-4321-f4b5-178b084ebbdc"
      },
      "source": [
        "percolationforMultipleN(0.6, 1000)"
      ],
      "execution_count": null,
      "outputs": [
        {
          "output_type": "stream",
          "text": [
            "5 10 15 20 25 30 35 40 45 50\n",
            "[55.800000000000004, 53.800000000000004, 55.00000000000001, 56.8, 58.4, 56.99999999999999, 56.599999999999994, 60.3, 60.4, 61.8]\n"
          ],
          "name": "stdout"
        },
        {
          "output_type": "display_data",
          "data": {
            "image/png": "[encoded data removed]",
            "text/plain": [
              "<Figure size 432x288 with 1 Axes>"
            ]
          },
          "metadata": {
            "tags": [],
            "needs_background": "light"
          }
        }
      ]
    },
    {
      "cell_type": "code",
      "metadata": {
        "colab": {
          "base_uri": "https://localhost:8080/",
          "height": 314
        },
        "id": "QcL2jRMhfnnA",
        "outputId": "353f1be4-c621-4300-ba18-e215163761c3"
      },
      "source": [
        "percolationforMultipleN(0.65, 1000)"
      ],
      "execution_count": null,
      "outputs": [
        {
          "output_type": "stream",
          "text": [
            "5 10 15 20 25 30 35 40 45 50\n",
            "[69.69999999999999, 79.2, 83.39999999999999, 87.1, 88.7, 92.5, 94.39999999999999, 96.7, 96.7, 98.2]\n"
          ],
          "name": "stdout"
        },
        {
          "output_type": "display_data",
          "data": {
            "image/png": "[encoded data removed]",
            "text/plain": [
              "<Figure size 432x288 with 1 Axes>"
            ]
          },
          "metadata": {
            "tags": [],
            "needs_background": "light"
          }
        }
      ]
    },
    {
      "cell_type": "code",
      "metadata": {
        "colab": {
          "base_uri": "https://localhost:8080/",
          "height": 314
        },
        "id": "_VxHDcA3frJC",
        "outputId": "4d77645b-6efc-4920-93d2-af2713bb2a4f"
      },
      "source": [
        "percolationforMultipleN(0.7, 1000)"
      ],
      "execution_count": null,
      "outputs": [
        {
          "output_type": "stream",
          "text": [
            "5 10 15 20 25 30 35 40 45 50\n",
            "[81.10000000000001, 92.4, 95.5, 98.6, 99.4, 99.3, 99.9, 100.0, 100.0, 100.0]\n"
          ],
          "name": "stdout"
        },
        {
          "output_type": "display_data",
          "data": {
            "image/png": "[encoded data removed]",
            "text/plain": [
              "<Figure size 432x288 with 1 Axes>"
            ]
          },
          "metadata": {
            "tags": [],
            "needs_background": "light"
          }
        }
      ]
    },
    {
      "cell_type": "markdown",
      "metadata": {
        "id": "jA29bWUvvH-q"
      },
      "source": [
        "We can see that the trend in the total percentage of percolation was decreasing when values of p where 0.5 and 0.55 but then there was gradual shift when p turned 0.6, although we couldn't really see an increasing trend for that value when p turned 0.65 then we could generally see as the number of colomns and rows increased then the percentage of percolation also increases. One thing that I found very interesting is why there was a decreasing trend for p values 0.5 and 0.55"
      ]
    },
    {
      "cell_type": "markdown",
      "metadata": {
        "id": "0_eSG_Dmf2iC"
      },
      "source": [
        "# Conclusion "
      ]
    },
    {
      "cell_type": "markdown",
      "metadata": {
        "id": "PcREixMHv4oh"
      },
      "source": [
        "In conclusion we can see that both values of n and p are valuabale for a specific grid to reach chances of percolation. I thought the general trends where very interesting. When looking at the probability of percolation and it's dependance on p when n is fixed, we could see that as the values of p increased then the percentage of percolation also increased. When looking at the the probability of percolation and it's dependance on n when p is fixed, we could see that as the values of n increased then the percentage of percolation also increased but this was only true for values of .65 , .7 of p. "
      ]
    },
    {
      "cell_type": "markdown",
      "metadata": {
        "id": "l57UUoeEf4iG"
      },
      "source": [
        "#Limitations"
      ]
    },
    {
      "cell_type": "markdown",
      "metadata": {
        "id": "J44x1c_vxY2t"
      },
      "source": [
        "One major limitation is I couldn't increase the range of n too much because then the algorithm that we had written reaches a recursive max. I hoped to see a bigger range for n than what I was able to. "
      ]
    }
  ]
}